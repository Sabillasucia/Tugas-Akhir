{
  "nbformat": 4,
  "nbformat_minor": 0,
  "metadata": {
    "colab": {
      "provenance": []
    },
    "kernelspec": {
      "name": "python3",
      "display_name": "Python 3"
    },
    "language_info": {
      "name": "python"
    }
  },
  "cells": [
    {
      "cell_type": "code",
      "source": [
        "\n",
        "pip install python_speech_features"
      ],
      "metadata": {
        "id": "nwD7varfsn_m",
        "colab": {
          "base_uri": "https://localhost:8080/"
        },
        "outputId": "a9f32403-fe40-4cf9-88dc-9e187fd571a4"
      },
      "execution_count": null,
      "outputs": [
        {
          "output_type": "stream",
          "name": "stdout",
          "text": [
            "Looking in indexes: https://pypi.org/simple, https://us-python.pkg.dev/colab-wheels/public/simple/\n",
            "Collecting python_speech_features\n",
            "  Downloading python_speech_features-0.6.tar.gz (5.6 kB)\n",
            "Building wheels for collected packages: python-speech-features\n",
            "  Building wheel for python-speech-features (setup.py) ... \u001b[?25l\u001b[?25hdone\n",
            "  Created wheel for python-speech-features: filename=python_speech_features-0.6-py3-none-any.whl size=5889 sha256=477b6b0011b20ded402ccb97acc2191096a024f51e0e21fd5aa98f04e12bad76\n",
            "  Stored in directory: /root/.cache/pip/wheels/5b/60/87/28af2605138deac93d162904df42b6fdda1dab9b8757c62aa3\n",
            "Successfully built python-speech-features\n",
            "Installing collected packages: python-speech-features\n",
            "Successfully installed python-speech-features-0.6\n"
          ]
        }
      ]
    },
    {
      "cell_type": "code",
      "execution_count": null,
      "metadata": {
        "id": "-sPddPDnTIJF"
      },
      "outputs": [],
      "source": [
        "import librosa\n",
        "import librosa.display\n",
        "import IPython.display as ipd\n",
        "import numpy as np\n",
        "from google.colab import drive\n",
        "import os\n",
        "import pandas as pd\n",
        "import pywt\n",
        "import csv\n",
        "import os\n",
        "from glob import glob\n",
        "import shutil\n",
        "from scipy.io import wavfile\n",
        "import matplotlib\n",
        "import matplotlib.pyplot as plt\n"
      ]
    },
    {
      "cell_type": "code",
      "source": [
        "plt.rcParams[\"figure.figsize\"] = [7.50, 3.50]\n",
        "plt.rcParams[\"figure.autolayout\"] = True"
      ],
      "metadata": {
        "id": "tQC-WOFqt-cV"
      },
      "execution_count": null,
      "outputs": []
    },
    {
      "cell_type": "code",
      "source": [
        "drive.mount('/content/drive')\n",
        "directory = \"/content\"\n",
        "base_path = \"/content/drive/MyDrive/Data Tugas Akhir\"\n",
        "MI_path = f'{base_path}{os.sep}MI/'\n",
        "audio_files_MI = glob(MI_path  + '*.wav')\n",
        "Preprocess_MI = f'{base_path}{os.sep}Preprocess_MI/'"
      ],
      "metadata": {
        "id": "zhXYVWfqTPFr",
        "colab": {
          "base_uri": "https://localhost:8080/"
        },
        "outputId": "af7e67ed-6513-4a93-dbb6-6b53c1421d0e"
      },
      "execution_count": null,
      "outputs": [
        {
          "output_type": "stream",
          "name": "stdout",
          "text": [
            "Mounted at /content/drive\n"
          ]
        }
      ]
    },
    {
      "cell_type": "markdown",
      "source": [
        "# MFCC"
      ],
      "metadata": {
        "id": "cDS3YyRtZmMz"
      }
    },
    {
      "cell_type": "code",
      "source": [
        "def feature_extraction(file_path):\n",
        "    x,sample_rate = librosa.load(file_path, res_type='kaiser_best')\n",
        "    mfcc = librosa.feature.mfcc(y=x, sr = sample_rate)\n",
        "    return mfcc"
      ],
      "metadata": {
        "id": "WNPxvwpBZttT"
      },
      "execution_count": null,
      "outputs": []
    },
    {
      "cell_type": "code",
      "source": [
        "features = {}\n",
        "features_mfcc_test = []\n",
        "directory = Preprocess_MI\n",
        "for audio in os.listdir(directory):\n",
        "    audio_path = directory+audio\n",
        "    features[audio_path] = feature_extraction(audio_path)\n",
        "    features_mfcc_test.append(feature_extraction(audio_path))"
      ],
      "metadata": {
        "id": "peKmayUCZz2o"
      },
      "execution_count": null,
      "outputs": []
    },
    {
      "cell_type": "code",
      "source": [
        "features_mfcc_test"
      ],
      "metadata": {
        "id": "82prrRx9aOqD"
      },
      "execution_count": null,
      "outputs": []
    },
    {
      "cell_type": "code",
      "source": [
        "features"
      ],
      "metadata": {
        "id": "O2gv01BiaSbR"
      },
      "execution_count": null,
      "outputs": []
    },
    {
      "cell_type": "markdown",
      "source": [
        "## MFCC Mean"
      ],
      "metadata": {
        "id": "qS-AtSIBaU6w"
      }
    },
    {
      "cell_type": "code",
      "source": [
        "mfcc_means = []\n",
        "for i in features_mfcc_test:\n",
        "  mean = np.mean(i)\n",
        "  mfcc_means.append(mean)"
      ],
      "metadata": {
        "id": "hUpjhb6xagOt"
      },
      "execution_count": null,
      "outputs": []
    },
    {
      "cell_type": "code",
      "source": [
        "df_mean = pd.DataFrame(mfcc_means, columns=['Mean'])\n",
        "plt.rcParams[\"figure.figsize\"] = (20,3)\n",
        "\n",
        "lines1 = df_mean.plot.line()\n",
        "\n",
        "plt.title('Plot Mean')\n",
        "plt.ylabel('Nilai')\n",
        "plt.xlabel('Data Ke')"
      ],
      "metadata": {
        "id": "BJLOxlOKakkF"
      },
      "execution_count": null,
      "outputs": []
    },
    {
      "cell_type": "markdown",
      "source": [
        "## MFCC Std"
      ],
      "metadata": {
        "id": "2XXeD8KBaaTY"
      }
    },
    {
      "cell_type": "code",
      "source": [
        "mfcc_std = []\n",
        "for i in features_mfcc_test:\n",
        "  std = np.std(i)\n",
        "  mfcc_std.append(std)"
      ],
      "metadata": {
        "id": "eZcB-HcfaqyA"
      },
      "execution_count": null,
      "outputs": []
    },
    {
      "cell_type": "code",
      "source": [
        "df_std = pd.DataFrame(mfcc_std, columns=['Std']) \n",
        "plt.rcParams[\"figure.figsize\"] = (20,3)\n",
        "\n",
        "lines1 = df_std.plot.line()\n",
        "\n",
        "plt.title('Plot std')\n",
        "plt.ylabel('Nilai')\n",
        "plt.xlabel('Data Ke')"
      ],
      "metadata": {
        "id": "3JQ5RTU_avg_"
      },
      "execution_count": null,
      "outputs": []
    },
    {
      "cell_type": "markdown",
      "source": [
        "## MFCC Max"
      ],
      "metadata": {
        "id": "PWbRa71Wabkt"
      }
    },
    {
      "cell_type": "code",
      "source": [
        "MFCC_max = []\n",
        "for i in features_mfcc_test:\n",
        "  max = np.max(i)\n",
        "  MFCC_max.append(max)"
      ],
      "metadata": {
        "id": "hp2-QbRca2Wa"
      },
      "execution_count": null,
      "outputs": []
    },
    {
      "cell_type": "code",
      "source": [
        "df_max = pd.DataFrame(MFCC_max, columns=['Max']) \n",
        "plt.rcParams[\"figure.figsize\"] = (20,3)\n",
        "\n",
        "lines1 = df_max.plot.line()\n",
        "\n",
        "plt.title('Plot Max')\n",
        "plt.ylabel('Nilai')\n",
        "plt.xlabel('Data Ke')"
      ],
      "metadata": {
        "id": "x6KNCXAla5bf"
      },
      "execution_count": null,
      "outputs": []
    },
    {
      "cell_type": "markdown",
      "source": [
        "## MFCC Min"
      ],
      "metadata": {
        "id": "wsqzJvIsadAM"
      }
    },
    {
      "cell_type": "code",
      "source": [
        "mfcc_Min = []\n",
        "for i in features_mfcc_test:\n",
        "  Min = np.min(i)\n",
        "  mfcc_Min.append(Min)"
      ],
      "metadata": {
        "id": "gNmQTc0ca_uR"
      },
      "execution_count": null,
      "outputs": []
    },
    {
      "cell_type": "code",
      "source": [
        "df_min = pd.DataFrame(mfcc_Min, columns=['Min']) \n",
        "plt.rcParams[\"figure.figsize\"] = (20,3)\n",
        "\n",
        "lines1 = df_min.plot.line()\n",
        "\n",
        "plt.title('Plot Min')\n",
        "plt.ylabel('Nilai')\n",
        "plt.xlabel('Data Ke')"
      ],
      "metadata": {
        "id": "tWHHgC28bFeE"
      },
      "execution_count": null,
      "outputs": []
    },
    {
      "cell_type": "code",
      "source": [
        "mfcc_Med = []\n",
        "for i in features_mfcc_test:\n",
        "  Med = np.median(i)\n",
        "  mfcc_Med.append(Med)"
      ],
      "metadata": {
        "id": "owroqb2Cudh2"
      },
      "execution_count": null,
      "outputs": []
    },
    {
      "cell_type": "code",
      "source": [
        "df_med = pd.DataFrame(mfcc_Med, columns=['Med']) \n",
        "plt.rcParams[\"figure.figsize\"] = (20,3)\n",
        "\n",
        "lines1 = df_med.plot.line()\n",
        "\n",
        "plt.title('Plot Med')\n",
        "plt.ylabel('Nilai')\n",
        "plt.xlabel('Data Ke')"
      ],
      "metadata": {
        "id": "EDlxD-6Eujw5"
      },
      "execution_count": null,
      "outputs": []
    },
    {
      "cell_type": "code",
      "source": [
        "mfcc_Var = []\n",
        "for i in features_mfcc_test:\n",
        "  Var = np.var(i)\n",
        "  mfcc_Var.append(Var)"
      ],
      "metadata": {
        "id": "G9jju0qfvCgl"
      },
      "execution_count": null,
      "outputs": []
    },
    {
      "cell_type": "code",
      "source": [
        "df_var = pd.DataFrame(mfcc_Var, columns=['Var']) \n",
        "plt.rcParams[\"figure.figsize\"] = (20,3)\n",
        "\n",
        "lines1 = df_var.plot.line()\n",
        "\n",
        "plt.title('Plot Var')\n",
        "plt.ylabel('Nilai')\n",
        "plt.xlabel('Data Ke')"
      ],
      "metadata": {
        "id": "GpcJTFsPvC1t"
      },
      "execution_count": null,
      "outputs": []
    },
    {
      "cell_type": "code",
      "source": [
        "from scipy.stats import skew"
      ],
      "metadata": {
        "id": "u55kgiiovexJ"
      },
      "execution_count": null,
      "outputs": []
    },
    {
      "cell_type": "code",
      "source": [
        "mfcc_Skew = []\n",
        "for i in features_mfcc_test:\n",
        "  Skew = skew(i, axis=0, bias=True)\n",
        "  mfcc_Skew.append(Skew)"
      ],
      "metadata": {
        "id": "BznUCwIcvXll"
      },
      "execution_count": null,
      "outputs": []
    },
    {
      "cell_type": "code",
      "source": [
        "skew_means = []\n",
        "for i in mfcc_Skew:\n",
        "  mean = np.mean(i)\n",
        "  skew_means.append(mean)"
      ],
      "metadata": {
        "id": "U9REEsvy21HG"
      },
      "execution_count": null,
      "outputs": []
    },
    {
      "cell_type": "code",
      "source": [
        "df_skew = pd.DataFrame(skew_means, columns=['Skew']) \n",
        "plt.rcParams[\"figure.figsize\"] = (20,3)\n",
        "\n",
        "lines1 = df_skew.plot.line()\n",
        "\n",
        "plt.title('Plot Skew')\n",
        "plt.ylabel('Nilai')\n",
        "plt.xlabel('Data Ke')"
      ],
      "metadata": {
        "id": "_6rpzrfLvXaw"
      },
      "execution_count": null,
      "outputs": []
    },
    {
      "cell_type": "code",
      "source": [
        "mfcc_Q1 = []\n",
        "for i in features_mfcc_test:\n",
        "  Q1 = np.percentile(i, 25) \n",
        "  mfcc_Q1.append(Q1)"
      ],
      "metadata": {
        "id": "zI5IAZlmwEgv"
      },
      "execution_count": null,
      "outputs": []
    },
    {
      "cell_type": "code",
      "source": [
        "df_q1 = pd.DataFrame(mfcc_Q1, columns=['Q1']) \n",
        "plt.rcParams[\"figure.figsize\"] = (20,3)\n",
        "\n",
        "lines1 = df_q1.plot.line()\n",
        "\n",
        "plt.title('Plot Q1')\n",
        "plt.ylabel('Nilai')\n",
        "plt.xlabel('Data Ke')"
      ],
      "metadata": {
        "id": "VDuP34DvwY07"
      },
      "execution_count": null,
      "outputs": []
    },
    {
      "cell_type": "code",
      "source": [
        "mfcc_Q3 = []\n",
        "for i in features_mfcc_test:\n",
        "  Q3 = np.percentile(i, 75) \n",
        "  mfcc_Q3.append(Q3)"
      ],
      "metadata": {
        "id": "CnbGoIEXwsG7"
      },
      "execution_count": null,
      "outputs": []
    },
    {
      "cell_type": "code",
      "source": [
        "df_q3 = pd.DataFrame(mfcc_Q3, columns=['Q3']) \n",
        "plt.rcParams[\"figure.figsize\"] = (20,3)\n",
        "\n",
        "lines1 = df_q3.plot.line()\n",
        "\n",
        "plt.title('Plot Q3')\n",
        "plt.ylabel('Nilai')\n",
        "plt.xlabel('Data Ke')"
      ],
      "metadata": {
        "id": "FuW5He3Pwui-"
      },
      "execution_count": null,
      "outputs": []
    },
    {
      "cell_type": "code",
      "source": [
        "mfcc_IQR = []\n",
        "IQR = np.array(mfcc_Q3) - np.array(mfcc_Q1)\n",
        "mfcc_IQR.append(IQR)"
      ],
      "metadata": {
        "id": "AQG7oUxmxBGC"
      },
      "execution_count": null,
      "outputs": []
    },
    {
      "cell_type": "code",
      "source": [
        "df_iqr = pd.DataFrame(mfcc_IQR)\n",
        "df_iqr = df_iqr.transpose()\n",
        "plt.rcParams[\"figure.figsize\"] = (20,3)\n",
        "\n",
        "lines1 = df_iqr.plot.line()\n",
        "\n",
        "plt.title('Plot IQR')\n",
        "plt.ylabel('Nilai')\n",
        "plt.xlabel('Data Ke')"
      ],
      "metadata": {
        "id": "YbPmqjcfxIQl"
      },
      "execution_count": null,
      "outputs": []
    },
    {
      "cell_type": "code",
      "source": [
        "mfcc_range = []\n",
        "Range = np.array(MFCC_max) - np.array(mfcc_Min)\n",
        "mfcc_range.append(Range)"
      ],
      "metadata": {
        "id": "YJuS4ydtx4tj"
      },
      "execution_count": null,
      "outputs": []
    },
    {
      "cell_type": "code",
      "source": [
        "df_range = pd.DataFrame(mfcc_range)\n",
        "df_range = df_range.transpose()\n",
        "plt.rcParams[\"figure.figsize\"] = (20,3)\n",
        "\n",
        "lines1 = df_range.plot.line()\n",
        "\n",
        "plt.title('Plot MinMax range')\n",
        "plt.ylabel('Nilai')\n",
        "plt.xlabel('Data Ke')"
      ],
      "metadata": {
        "id": "U9pXO6QSyI-A"
      },
      "execution_count": null,
      "outputs": []
    },
    {
      "cell_type": "code",
      "source": [
        "from scipy.stats import kurtosis"
      ],
      "metadata": {
        "id": "jyx0ZxaNy4D3"
      },
      "execution_count": null,
      "outputs": []
    },
    {
      "cell_type": "code",
      "source": [
        "mfcc_Kurt = []\n",
        "for i in features_mfcc_test:\n",
        "  Kurt = kurtosis(i, axis=0, bias=True)\n",
        "  mfcc_Kurt.append(Kurt)"
      ],
      "metadata": {
        "id": "Vhjr0-Wly4un"
      },
      "execution_count": null,
      "outputs": []
    },
    {
      "cell_type": "code",
      "source": [
        "kurt_means = []\n",
        "for i in mfcc_Kurt:\n",
        "  mean = np.mean(i)\n",
        "  kurt_means.append(mean)"
      ],
      "metadata": {
        "id": "IBKY0vHw7HB4"
      },
      "execution_count": null,
      "outputs": []
    },
    {
      "cell_type": "code",
      "source": [
        "df_kurt = pd.DataFrame(kurt_means, columns=['Kurt']) \n",
        "plt.rcParams[\"figure.figsize\"] = (20,3)\n",
        "\n",
        "lines1 = df_kurt.plot.line()\n",
        "\n",
        "plt.title('Plot Kurtosis')\n",
        "plt.ylabel('Nilai')\n",
        "plt.xlabel('Data Ke')"
      ],
      "metadata": {
        "id": "F5wVTxkry9H4"
      },
      "execution_count": null,
      "outputs": []
    },
    {
      "cell_type": "code",
      "source": [
        "df_mfcc = pd.DataFrame()\n",
        "df_mfcc['Mean_mfcc'] = df_mean['Mean']\n",
        "df_mfcc['Std_mfcc'] = df_std['Std']\n",
        "df_mfcc['Max_mfcc'] = df_max['Max']\n",
        "df_mfcc['Min_mfcc'] = df_min['Min']\n",
        "df_mfcc['Med_mfcc'] = df_med['Med']\n",
        "df_mfcc['Var_mfcc'] = df_var['Var']\n",
        "df_mfcc['Skew_mfcc'] = df_skew['Skew']\n",
        "df_mfcc['Q1_mfcc'] = df_q1['Q1']\n",
        "df_mfcc['Q3_mfcc'] = df_q3['Q3']\n",
        "df_mfcc['IQR_mfcc'] = df_iqr[0]\n",
        "df_mfcc['MinMax_mfcc'] = df_range[0]\n",
        "df_mfcc['Kurt_mfcc'] = df_kurt['Kurt']\n",
        "df_mfcc"
      ],
      "metadata": {
        "id": "R6M0ZtuYcD56"
      },
      "execution_count": null,
      "outputs": []
    },
    {
      "cell_type": "code",
      "source": [
        "df_mfcc.to_csv(\"MFCC_Feature Extraction_MI.csv\")"
      ],
      "metadata": {
        "id": "p5J1bUcNciZb"
      },
      "execution_count": null,
      "outputs": []
    },
    {
      "cell_type": "markdown",
      "source": [
        "# Shanon Entropy"
      ],
      "metadata": {
        "id": "p9HgtLwwUf3d"
      }
    },
    {
      "cell_type": "code",
      "source": [
        "from scipy.stats import entropy\n",
        "def shannonenergycount(file_path):\n",
        "    x,sample_rate = librosa.load(file_path, res_type='kaiser_best')\n",
        "    x_series = pd.Series(x)\n",
        "    counts = x_series.value_counts()\n",
        "    entropy_shanon = entropy(counts)\n",
        "    return entropy_shanon\n"
      ],
      "metadata": {
        "id": "mqgXM-HXUjjh"
      },
      "execution_count": null,
      "outputs": []
    },
    {
      "cell_type": "code",
      "source": [
        "shanonenergy = []\n",
        "shanonpath = Preprocess_MI\n",
        "for audio in os.listdir(shanonpath):\n",
        "    audio_path = shanonpath+audio\n",
        "    results = shannonenergycount(audio_path)\n",
        "    shanonenergy.append(results)"
      ],
      "metadata": {
        "id": "AwPupMGPUmkZ"
      },
      "execution_count": null,
      "outputs": []
    },
    {
      "cell_type": "code",
      "source": [
        "shanonenergy"
      ],
      "metadata": {
        "id": "5vPrZ4mahyoL"
      },
      "execution_count": null,
      "outputs": []
    },
    {
      "cell_type": "code",
      "source": [
        "shanonlist = shanonenergy\n",
        "df_shanon = pd.DataFrame([shanonlist])\n",
        "df_shanon"
      ],
      "metadata": {
        "id": "BN4q-CgTh3eh"
      },
      "execution_count": null,
      "outputs": []
    },
    {
      "cell_type": "code",
      "source": [
        "df_shanon_transposed = df_shanon.transpose()\n",
        "df_shanon_transposed"
      ],
      "metadata": {
        "id": "SRFJjoE0iI8j"
      },
      "execution_count": null,
      "outputs": []
    },
    {
      "cell_type": "code",
      "source": [
        "df_shanon_transposed.rename(columns={0: \"Entropy\"}, inplace=True)"
      ],
      "metadata": {
        "id": "ZDNxrbuBZNUO"
      },
      "execution_count": null,
      "outputs": []
    },
    {
      "cell_type": "code",
      "source": [
        "df_shanon_transposed.to_csv(\"Shannon_Feature Extraction_MI.csv\")"
      ],
      "metadata": {
        "id": "_z-P4WaXY2UO"
      },
      "execution_count": null,
      "outputs": []
    },
    {
      "cell_type": "code",
      "source": [
        "plt.figure(figsize=(18, 8))\n",
        "plt.title(\"Shannon Entropy of MI Signal\")\n",
        "plt.plot(df_shanon_transposed)\n",
        "plt.ylabel('Entropy')\n",
        "plt.xlabel('Iterasi file')\n",
        "plt.show()"
      ],
      "metadata": {
        "id": "o_th-0Eciwi3"
      },
      "execution_count": null,
      "outputs": []
    }
  ]
}